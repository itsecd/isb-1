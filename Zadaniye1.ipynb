{
 "cells": [
  {
   "attachments": {},
   "cell_type": "markdown",
   "metadata": {},
   "source": [
    "# Функция для чтение текста ( надо более 500 символов)"
   ]
  },
  {
   "cell_type": "code",
   "execution_count": null,
   "metadata": {},
   "outputs": [],
   "source": [
    "def read_file(file_name: str) -> str:\n",
    "    \"\"\"функция чтения текста из файла\"\"\"   \n",
    "    text = \"\"     \n",
    "    with open(file_name, encoding='utf-8') as file:\n",
    "         for item in file:\n",
    "             text += item\n",
    "    return text"
   ]
  },
  {
   "attachments": {},
   "cell_type": "markdown",
   "metadata": {},
   "source": [
    "# Функция для создания алфавита"
   ]
  },
  {
   "cell_type": "code",
   "execution_count": null,
   "metadata": {},
   "outputs": [],
   "source": [
    "def prepare_alph() -> str:\n",
    "    \"\"\"создание алфавита\"\"\"\n",
    "    alf=\"\"\n",
    "    for i in range(ord(\"а\"),ord(\"е\")+1):\n",
    "        alf=alf + chr(i)\n",
    "        \n",
    "    alf = alf + chr(ord(\"ё\"))\n",
    "    for i in range(ord(\"ж\"),ord(\"я\")+1):\n",
    "        alf=alf + chr(i)\n",
    "    return alf"
   ]
  },
  {
   "attachments": {},
   "cell_type": "markdown",
   "metadata": {},
   "source": [
    "# Шифр Цезаря"
   ]
  },
  {
   "cell_type": "code",
   "execution_count": null,
   "metadata": {},
   "outputs": [],
   "source": [
    "def chezar(text: str, key: int, alph: str) -> str:\n",
    "    \"\"\"функция зашифровки текста\"\"\"\n",
    "    new_str = \"\"\n",
    "    for i in text:\n",
    "        index = alph.find(i.lower())\n",
    "        if index != -1:                  \n",
    "            if index + key < len(alph):\n",
    "                if i.istitle():\n",
    "                    new_str += alph[index+key].upper()\n",
    "                else:\n",
    "                    new_str += alph[index+key]\n",
    "            else:\n",
    "                index = key-(len(alph)-index) \n",
    "                if i.istitle():\n",
    "                    new_str += alph[index].upper()\n",
    "                else:\n",
    "                    new_str += alph[index]  \n",
    "                \n",
    "        else:\n",
    "            new_str += i\n",
    "    return new_str  "
   ]
  },
  {
   "attachments": {},
   "cell_type": "markdown",
   "metadata": {},
   "source": [
    "# Здесь идет вызов всего что мы наделали и запись в файл зашифрованного текста"
   ]
  },
  {
   "cell_type": "code",
   "execution_count": null,
   "metadata": {},
   "outputs": [],
   "source": [
    "example_text = chezar(read_file(\"text1.txt\"), int(read_file(\"key1.txt\")), prepare_alph())\n",
    "file = open(\"text1_1.txt\", \"w+\",encoding='utf-8' )\n",
    "file.write(example_text)\n",
    "file.close()"
   ]
  }
 ],
 "metadata": {
  "kernelspec": {
   "display_name": "Python 3",
   "language": "python",
   "name": "python3"
  },
  "language_info": {
   "codemirror_mode": {
    "name": "ipython",
    "version": 3
   },
   "file_extension": ".py",
   "mimetype": "text/x-python",
   "name": "python",
   "nbconvert_exporter": "python",
   "pygments_lexer": "ipython3",
   "version": "3.9.7"
  },
  "orig_nbformat": 4,
  "vscode": {
   "interpreter": {
    "hash": "ec805d7956e634e8042100239b8609091a9c19982996462007fe4be10d7c0404"
   }
  }
 },
 "nbformat": 4,
 "nbformat_minor": 2
}
