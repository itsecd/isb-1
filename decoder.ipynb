{
 "cells": [
  {
   "attachments": {},
   "cell_type": "markdown",
   "metadata": {},
   "source": [
    "# 1 Первая лаба ОИБ\n"
   ]
  },
  {
   "attachments": {},
   "cell_type": "markdown",
   "metadata": {},
   "source": [
    "Расшифровка методом частотного анализа."
   ]
  },
  {
   "cell_type": "code",
   "execution_count": null,
   "metadata": {},
   "outputs": [],
   "source": [
    "from File import File\n",
    "import decoder"
   ]
  },
  {
   "attachments": {},
   "cell_type": "markdown",
   "metadata": {},
   "source": [
    "Читаем исходный закодированный текст."
   ]
  },
  {
   "cell_type": "code",
   "execution_count": null,
   "metadata": {},
   "outputs": [],
   "source": [
    "\n",
    "filename = \"./decoder_data/cod7\"\n",
    "    \n",
    "src_text = str()\n",
    "\n",
    "try:\n",
    "    src_file = File(filename , \"r\")\n",
    "    src_text = src_file.read()\n",
    "except:\n",
    "    print(\"Input file error (isn't it's name *.txt?)\")\n",
    "    exit()\n",
    "    \n",
    "src_text"
   ]
  },
  {
   "attachments": {},
   "cell_type": "markdown",
   "metadata": {},
   "source": [
    "Анализируем частотность для каждого символа исходного текста."
   ]
  },
  {
   "cell_type": "code",
   "execution_count": null,
   "metadata": {},
   "outputs": [],
   "source": [
    "exp_dict = decoder.count_letters(src_text) # { a_letter_from_text : probability }\n",
    "exp_dict"
   ]
  },
  {
   "attachments": {},
   "cell_type": "markdown",
   "metadata": {},
   "source": [
    "Сопоставляем частотности и делаем подстановку"
   ]
  },
  {
   "cell_type": "code",
   "execution_count": null,
   "metadata": {},
   "outputs": [],
   "source": [
    "import decoder\n",
    "shift_dict = decoder.decoder(exp_dict) # { a_letter_from_text  : approxed_letter }"
   ]
  },
  {
   "cell_type": "code",
   "execution_count": null,
   "metadata": {},
   "outputs": [],
   "source": [
    "exp_shift_dict = {\n",
    "' ' : 'и',\n",
    "'Х' : ' ',\n",
    "'Е' : 'о',\n",
    "'Д': 'н',\n",
    "'А': 'и',\n",
    "'Ч': 'а',\n",
    "'Ы': 'е',\n",
    "'Б': 'к',\n",
    "'1': 'л',\n",
    "'П': 'щ',\n",
    "'Ъ': 'г',\n",
    "'Щ': 'в',\n",
    "'T': 'р',\n",
    "'Ф': 'я',\n",
    "'Й': 'т',\n",
    "'2': 'м',\n",
    "'>': 'ы',\n",
    "'R': 'п',\n",
    "'Я': 'з',\n",
    "'У': 'ю',\n",
    "'W': 'д',\n",
    "'5': 'ч',\n",
    "'7': 'ь',\n",
    "'К': 'у',\n",
    "'И': 'с',\n",
    "'Ь': 'ж',\n",
    "'Л': 'ф',\n",
    "'4': 'ц',\n",
    "'8': 'э',\n",
    "'О': 'ш',\n",
    "'А': 'й',\n",
    "'М': 'х'\n",
    "}"
   ]
  },
  {
   "cell_type": "code",
   "execution_count": null,
   "metadata": {},
   "outputs": [],
   "source": [
    "src_text = src_text.upper()\n",
    "out_text = decoder.changer(src_text, exp_shift_dict)"
   ]
  },
  {
   "cell_type": "code",
   "execution_count": null,
   "metadata": {},
   "outputs": [],
   "source": [
    "out_text # Result"
   ]
  },
  {
   "attachments": {},
   "cell_type": "markdown",
   "metadata": {},
   "source": [
    "Сохраняем полученный текст в файл"
   ]
  },
  {
   "cell_type": "code",
   "execution_count": null,
   "metadata": {},
   "outputs": [],
   "source": [
    "try:\n",
    "        out_file = File(\"./decoder_data/output_text\", \"w\")\n",
    "        out_file.write(out_text)\n",
    "except:\n",
    "        print(\"Output file error (does it already exist?)\")\n",
    "        exit()"
   ]
  },
  {
   "attachments": {},
   "cell_type": "markdown",
   "metadata": {},
   "source": [
    "Сохраняем полученную ключ-последовательность в файл"
   ]
  },
  {
   "cell_type": "code",
   "execution_count": null,
   "metadata": {},
   "outputs": [],
   "source": [
    "key_out_file = File(\"./decoder_data/key_out\",\"a\")\n",
    "\n",
    "for shift in exp_shift_dict:\n",
    "    key_out_file.write(f\"{shift} : {exp_shift_dict[shift]}\\n\")\n"
   ]
  }
 ],
 "metadata": {
  "kernelspec": {
   "display_name": "Python 3",
   "language": "python",
   "name": "python3"
  },
  "language_info": {
   "codemirror_mode": {
    "name": "ipython",
    "version": 3
   },
   "file_extension": ".py",
   "mimetype": "text/x-python",
   "name": "python",
   "nbconvert_exporter": "python",
   "pygments_lexer": "ipython3",
   "version": "3.10.6"
  },
  "orig_nbformat": 4
 },
 "nbformat": 4,
 "nbformat_minor": 2
}
