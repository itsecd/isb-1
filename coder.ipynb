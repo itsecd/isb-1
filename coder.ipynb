{
 "cells": [
  {
   "attachments": {},
   "cell_type": "markdown",
   "metadata": {},
   "source": [
    "# MY CODER"
   ]
  },
  {
   "attachments": {},
   "cell_type": "markdown",
   "metadata": {},
   "source": [
    "# Необходимые модули"
   ]
  },
  {
   "cell_type": "code",
   "execution_count": 1,
   "metadata": {},
   "outputs": [],
   "source": [
    "import random"
   ]
  },
  {
   "attachments": {},
   "cell_type": "markdown",
   "metadata": {},
   "source": [
    "# Исходный русский алфавит"
   ]
  },
  {
   "cell_type": "code",
   "execution_count": 2,
   "metadata": {},
   "outputs": [],
   "source": [
    "ALPHABET = \"АБВГДЕЖЗИЙКЛМОПРСТУФХЦЧШЩЪЫЬЭЮЯ \""
   ]
  },
  {
   "attachments": {},
   "cell_type": "markdown",
   "metadata": {},
   "source": [
    "# Функция кодировки"
   ]
  },
  {
   "cell_type": "code",
   "execution_count": 7,
   "metadata": {},
   "outputs": [],
   "source": [
    "def coder(input_str: str) -> str:\n",
    "    input_str = input_str.upper()\n",
    "    new_key = \"\"\n",
    "    result_str = \"\"\n",
    "    origin_key = [\"1\", \"<\", \"A\", \"D\", \"2\", \">\", \"3\", \"B\", \"C\", \"%\", \"R\", \"T\", \"Y\", \"O\", \"P\",\n",
    "                  \"G\", \"4\", \"5\", \"F\", \"C\", \"X\", \"Z\", \"6\", \"J\", \"M\", \"N\", \"7\", \"$\", \"#\", \" \", \"Q\", \"W\"]\n",
    "    random.shuffle(origin_key)\n",
    "    for i in range(len(origin_key)):\n",
    "        new_key += origin_key[i]\n",
    "    for elem in input_str:\n",
    "        index = ALPHABET.find(elem)\n",
    "        result_str += new_key[index]\n",
    "    print(\"ALPHABET -> \", ALPHABET)\n",
    "    print(\"KEY -> \", new_key)\n",
    "    return result_str\n"
   ]
  },
  {
   "attachments": {},
   "cell_type": "markdown",
   "metadata": {},
   "source": [
    "# Ввод значения и вывод результата"
   ]
  },
  {
   "cell_type": "code",
   "execution_count": 10,
   "metadata": {},
   "outputs": [
    {
     "name": "stdout",
     "output_type": "stream",
     "text": [
      "ALPHABET ->  АБВГДЕЖЗИЙКЛМОПРСТУФХЦЧШЩЪЫЬЭЮЯ \n",
      "KEY ->  CPJQDTB1AZ$%NXC#2<M7GYO6354 W>RF\n",
      "\n",
      "ORIGIN -> плыли мы по морю ветер мачту рвал\n",
      "RESULT -> C%4%AFN4FCXFNX#>FJT<T#FNCO<MF#JC%\n"
     ]
    }
   ],
   "source": [
    "input_text = input(\"Input text -> \")\n",
    "print(f\"\\nORIGIN -> {input_text}\\nRESULT -> {coder(input_text)}\")"
   ]
  }
 ],
 "metadata": {
  "kernelspec": {
   "display_name": "Python 3",
   "language": "python",
   "name": "python3"
  },
  "language_info": {
   "codemirror_mode": {
    "name": "ipython",
    "version": 3
   },
   "file_extension": ".py",
   "mimetype": "text/x-python",
   "name": "python",
   "nbconvert_exporter": "python",
   "pygments_lexer": "ipython3",
   "version": "3.10.2"
  },
  "orig_nbformat": 4
 },
 "nbformat": 4,
 "nbformat_minor": 2
}
